{
  "nbformat": 4,
  "nbformat_minor": 0,
  "metadata": {
    "colab": {
      "provenance": [],
      "authorship_tag": "ABX9TyPDsZyhPwlNPoob04BHTmqO",
      "include_colab_link": true
    },
    "kernelspec": {
      "name": "python3",
      "display_name": "Python 3"
    },
    "language_info": {
      "name": "python"
    }
  },
  "cells": [
    {
      "cell_type": "markdown",
      "metadata": {
        "id": "view-in-github",
        "colab_type": "text"
      },
      "source": [
        "<a href=\"https://colab.research.google.com/github/MuntahaTazeem5/Basic-Pandas-Projects/blob/main/Movie_Ratings_Analysis.ipynb\" target=\"_parent\"><img src=\"https://colab.research.google.com/assets/colab-badge.svg\" alt=\"Open In Colab\"/></a>"
      ]
    },
    {
      "cell_type": "markdown",
      "source": [
        "***Movie Ratings Analysis***\n",
        "\n",
        "**Scenario:** A streaming service wants to analyze movies (title, genre, rating, release_year).\n",
        "\n",
        " **Tasks & Instructions:**\n",
        "\n",
        "Use .describe() → stats about ratings.\n",
        "\n",
        "Use .info() → check datatypes (ratings → float, year → int).\n",
        "\n",
        "Use .sort_values(by=\"release_year\") → find oldest to newest movies.\n",
        "\n",
        "Use .iloc[-10:] → get last 10 entries."
      ],
      "metadata": {
        "id": "XkabV2QdgAk0"
      }
    },
    {
      "cell_type": "code",
      "execution_count": 1,
      "metadata": {
        "id": "ZAtHo7Def_gI"
      },
      "outputs": [],
      "source": [
        "import pandas as pd"
      ]
    },
    {
      "cell_type": "code",
      "source": [
        "data = {\n",
        "    \"title\": [\"Movie A\", \"Movie B\", \"Movie C\", \"Movie D\", \"Movie E\"],\n",
        "    \"genre\": [\"Action\", \"Comedy\", \"Drama\", \"Thriller\", \"Action\"],\n",
        "    \"rating\": [8.2, 6.5, 7.8, 5.9, 9.0],\n",
        "    \"release_year\": [2010, 2015, 2020, 2005, 2022]\n",
        "}"
      ],
      "metadata": {
        "id": "OFhG-wB-gOPm"
      },
      "execution_count": 3,
      "outputs": []
    },
    {
      "cell_type": "code",
      "source": [
        "df=pd.DataFrame(data)"
      ],
      "metadata": {
        "id": "-jmj9E_RgrP2"
      },
      "execution_count": 4,
      "outputs": []
    },
    {
      "cell_type": "code",
      "source": [
        "print(\"\\n Ratings Summary: \\n\",df.describe())"
      ],
      "metadata": {
        "colab": {
          "base_uri": "https://localhost:8080/"
        },
        "id": "JVl_Efdugtx2",
        "outputId": "8a276ee8-0dcb-4285-abc0-0140a601fac0"
      },
      "execution_count": 7,
      "outputs": [
        {
          "output_type": "stream",
          "name": "stdout",
          "text": [
            "\n",
            " Ratings Summary: \n",
            "          rating  release_year\n",
            "count  5.000000      5.000000\n",
            "mean   7.480000   2014.400000\n",
            "std    1.263725      7.021396\n",
            "min    5.900000   2005.000000\n",
            "25%    6.500000   2010.000000\n",
            "50%    7.800000   2015.000000\n",
            "75%    8.200000   2020.000000\n",
            "max    9.000000   2022.000000\n"
          ]
        }
      ]
    },
    {
      "cell_type": "code",
      "source": [
        "print(\"Datasets Info: \\n\")\n",
        "print(df.info())"
      ],
      "metadata": {
        "colab": {
          "base_uri": "https://localhost:8080/"
        },
        "id": "lNTlNRA3gxlP",
        "outputId": "38e9d028-71cd-466b-b9ca-d0709b0b579c"
      },
      "execution_count": 9,
      "outputs": [
        {
          "output_type": "stream",
          "name": "stdout",
          "text": [
            "Datasets Info: \n",
            "\n",
            "<class 'pandas.core.frame.DataFrame'>\n",
            "RangeIndex: 5 entries, 0 to 4\n",
            "Data columns (total 4 columns):\n",
            " #   Column        Non-Null Count  Dtype  \n",
            "---  ------        --------------  -----  \n",
            " 0   title         5 non-null      object \n",
            " 1   genre         5 non-null      object \n",
            " 2   rating        5 non-null      float64\n",
            " 3   release_year  5 non-null      int64  \n",
            "dtypes: float64(1), int64(1), object(2)\n",
            "memory usage: 292.0+ bytes\n",
            "None\n"
          ]
        }
      ]
    },
    {
      "cell_type": "code",
      "metadata": {
        "colab": {
          "base_uri": "https://localhost:8080/"
        },
        "id": "29d84b2c",
        "outputId": "fdfdac0b-95ba-4a2e-db36-ecbe5aac9e2c"
      },
      "source": [
        "print(\"Movies sorted by Release Date: \\n\",df.sort_values(by=\"release_year\"))"
      ],
      "execution_count": 11,
      "outputs": [
        {
          "output_type": "stream",
          "name": "stdout",
          "text": [
            "Movies sorted by Release Date: \n",
            "      title     genre  rating  release_year\n",
            "3  Movie D  Thriller     5.9          2005\n",
            "0  Movie A    Action     8.2          2010\n",
            "1  Movie B    Comedy     6.5          2015\n",
            "2  Movie C     Drama     7.8          2020\n",
            "4  Movie E    Action     9.0          2022\n"
          ]
        }
      ]
    },
    {
      "cell_type": "code",
      "source": [
        "print(\"Last 10 movies: \\n\",df.iloc[-10:])"
      ],
      "metadata": {
        "colab": {
          "base_uri": "https://localhost:8080/"
        },
        "id": "yEqiS7NbiUOM",
        "outputId": "2d560c59-9baf-41e8-e2ae-1b54d20791c2"
      },
      "execution_count": 15,
      "outputs": [
        {
          "output_type": "stream",
          "name": "stdout",
          "text": [
            "Last 10 movies: \n",
            "      title     genre  rating  release_year\n",
            "0  Movie A    Action     8.2          2010\n",
            "1  Movie B    Comedy     6.5          2015\n",
            "2  Movie C     Drama     7.8          2020\n",
            "3  Movie D  Thriller     5.9          2005\n",
            "4  Movie E    Action     9.0          2022\n"
          ]
        }
      ]
    },
    {
      "cell_type": "code",
      "source": [],
      "metadata": {
        "id": "6Jgp_cRAiio7"
      },
      "execution_count": null,
      "outputs": []
    }
  ]
}